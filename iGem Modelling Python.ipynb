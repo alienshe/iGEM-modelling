{
 "cells": [
  {
   "cell_type": "code",
   "execution_count": 11,
   "metadata": {},
   "outputs": [],
   "source": [
    "#Preparing OpenMM\n",
    "\n",
    "from openmm.app import *\n",
    "from openmm import *\n",
    "from openmm.unit import *\n",
    "from sys import stdout\n",
    "\n",
    "pdb = PDBFile('fuGFP-processed.pdb')\n",
    "\n",
    "nanometer = 1e-9*meters\n",
    "picosecond = 1e-12*seconds"
   ]
  },
  {
   "cell_type": "code",
   "execution_count": 13,
   "metadata": {},
   "outputs": [
    {
     "name": "stdout",
     "output_type": "stream",
     "text": [
      "#\"Step\",\"Potential Energy (kJ/mole)\",\"Temperature (K)\"\n",
      "1000,-558869.8386467667,293.4488157775583\n",
      "2000,-552429.5886467667,298.00795123437973\n",
      "3000,-552824.0886467667,300.89530793309234\n",
      "4000,-553975.4636467667,303.970815983292\n",
      "5000,-552861.2136467667,303.0938693553021\n",
      "6000,-553764.4636467667,301.4192079957107\n",
      "7000,-554219.2136467667,300.4155228279477\n",
      "8000,-555086.5886467667,300.6705970769408\n",
      "9000,-553289.0886467667,299.7260671357045\n",
      "10000,-554112.4636467667,299.7095399541546\n"
     ]
    }
   ],
   "source": [
    "#OpenMM Simulation\n",
    "\n",
    "forcefield = ForceField('amber14-all.xml', 'amber14/tip3pfb.xml')\n",
    "\n",
    "system = forcefield.createSystem(pdb.topology, nonbondedMethod=PME,\n",
    "        nonbondedCutoff=1*nanometer, constraints=HBonds)\n",
    "\n",
    "integrator = LangevinMiddleIntegrator(300*kelvin, 1/picosecond, 0.004*picosecond)\n",
    "\n",
    "simulation = Simulation(pdb.topology, system, integrator)\n",
    "\n",
    "simulation.context.setPositions(pdb.positions)\n",
    "\n",
    "simulation.minimizeEnergy()\n",
    "\n",
    "simulation.reporters.append(PDBReporter('output.pdb', 1000))\n",
    "\n",
    "simulation.reporters.append(StateDataReporter(stdout, 1000, step=True,\n",
    "        potentialEnergy=True, temperature=True))\n",
    "\n",
    "simulation.step(10000)"
   ]
  },
  {
   "cell_type": "code",
   "execution_count": 15,
   "metadata": {},
   "outputs": [
    {
     "data": {
      "application/vnd.jupyter.widget-view+json": {
       "model_id": "6f8c913cd1414bdfba0ccfc0ce0bfd40",
       "version_major": 2,
       "version_minor": 0
      },
      "text/plain": []
     },
     "metadata": {},
     "output_type": "display_data"
    }
   ],
   "source": [
    "#Preparing Biopython\n",
    "\n",
    "from Bio.PDB import *\n",
    "import nglview as nv\n",
    "import ipywidgets  "
   ]
  }
 ],
 "metadata": {
  "kernelspec": {
   "display_name": "Python 3.9.12 ('base')",
   "language": "python",
   "name": "python3"
  },
  "language_info": {
   "codemirror_mode": {
    "name": "ipython",
    "version": 3
   },
   "file_extension": ".py",
   "mimetype": "text/x-python",
   "name": "python",
   "nbconvert_exporter": "python",
   "pygments_lexer": "ipython3",
   "version": "3.9.12"
  },
  "orig_nbformat": 4,
  "vscode": {
   "interpreter": {
    "hash": "cde14360786af4ef0277c6d33169e06d5188bf0dafac2bc7a7549df2e8d551bd"
   }
  }
 },
 "nbformat": 4,
 "nbformat_minor": 2
}
